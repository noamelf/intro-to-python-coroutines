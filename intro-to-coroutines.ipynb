{
 "cells": [
  {
   "cell_type": "markdown",
   "metadata": {
    "slideshow": {
     "slide_type": "slide"
    }
   },
   "source": [
    "# Introduction to Python coroutines\n",
    "There is much more to yield!  \n",
    "  \n",
    "Noam Elfanbaum  \n",
    "[thespoon](http://thespoon.ghost.io)  \n",
    "[@noamelf](https://twitter.com/noamelf)  "
   ]
  },
  {
   "cell_type": "markdown",
   "metadata": {
    "slideshow": {
     "slide_type": "slide"
    }
   },
   "source": [
    "##Introduction\n",
    "\n",
    "* In 1963 Melvine Conway (not the same guy from the Game of Life) came out with a paradaigm that will allow him to decouple COBOL programs into seperate units ([Design of a Separable Transition-Diagram Compiler](http://www.citemaster.net/get/ab3afb46-1d2a-11e4-ac35-00163e009cc7/p396-conway.pdf)). Instead of a routine that pass control to a subroutine and then gets it back, you have co-routines that passes control simultanoiusly from one another.\n",
    "> Subroutines are special cases of... coroutines. – [Donald Knuth](http://en.wikipedia.org/wiki/Coroutine#cite_note-KnuthVol1_1_4_2-3)\n",
    "\n",
    "* Coroutines paradigm was introduced to Python 2.5 in [PEP 342](http://legacy.python.org/dev/peps/pep-0342/) with the motivation of expanding the language expressivness as Guido and Phillip write in the PEP motivation section:\n",
    "> Coroutines are a natural way of expressing many algorithms, such as simulations, games, asynchronous I/O, and other forms of event- driven programming or co-operative multitasking.\n",
    "\n",
    "*The followings regards coroutine implementation in python 3."
   ]
  },
  {
   "cell_type": "markdown",
   "metadata": {
    "slideshow": {
     "slide_type": "slide"
    }
   },
   "source": [
    "## Basics\n",
    "Each componenet is one of the building blocks of the one underneath:\n",
    "* Iterators\n",
    "* Generators\n",
    "* Coroutines"
   ]
  },
  {
   "cell_type": "markdown",
   "metadata": {
    "slideshow": {
     "slide_type": "slide"
    }
   },
   "source": [
    "### Iterators\n",
    "Iterator objects represents a sequence of data. The iterator specification (protocol) includes 2 methods each iterator object must implement:\n",
    "* `__iter__` - return the object itself.\n",
    "* `__next__` - returns the next object in the sequence, raises `StopIteration` if empty."
   ]
  },
  {
   "cell_type": "code",
   "execution_count": 17,
   "metadata": {
    "collapsed": true,
    "slideshow": {
     "slide_type": "subslide"
    }
   },
   "outputs": [],
   "source": [
    "# A class implementing the iterator protocol\n",
    "class iter_range(object):\n",
    "    def __init__(self, n):\n",
    "        self.i = 0\n",
    "        self.n = n\n",
    "\n",
    "    def __iter__(self):\n",
    "        return self\n",
    "\n",
    "    def  __next__ (self):\n",
    "        if self.i < self.n:\n",
    "            i = self.i\n",
    "            self.i += 1\n",
    "            return i\n",
    "        else:\n",
    "            raise StopIteration()"
   ]
  },
  {
   "cell_type": "code",
   "execution_count": 43,
   "metadata": {
    "collapsed": false,
    "slideshow": {
     "slide_type": "fragment"
    }
   },
   "outputs": [
    {
     "name": "stdout",
     "output_type": "stream",
     "text": [
      "0 1 2 "
     ]
    }
   ],
   "source": [
    "it = iter_range(3)\n",
    "for i in it:\n",
    "    print(i, end=' ')"
   ]
  },
  {
   "cell_type": "markdown",
   "metadata": {
    "slideshow": {
     "slide_type": "slide"
    }
   },
   "source": [
    "### Generators\n",
    "Generators helps us generate iterators easily. A generator is essentially a functions that contains a `yield` statement in it's body. "
   ]
  },
  {
   "cell_type": "code",
   "execution_count": 19,
   "metadata": {
    "collapsed": true,
    "slideshow": {
     "slide_type": "subslide"
    }
   },
   "outputs": [],
   "source": [
    "def gen_range(n):\n",
    "    i = 0\n",
    "    while i < n:\n",
    "        yield i\n",
    "        i += 1"
   ]
  },
  {
   "cell_type": "code",
   "execution_count": 37,
   "metadata": {
    "collapsed": false,
    "slideshow": {
     "slide_type": "fragment"
    }
   },
   "outputs": [
    {
     "name": "stdout",
     "output_type": "stream",
     "text": [
      "0 1 2 "
     ]
    }
   ],
   "source": [
    "it = gen_range(3)\n",
    "for i in it:\n",
    "    print(i, end=' ')"
   ]
  },
  {
   "cell_type": "markdown",
   "metadata": {
    "slideshow": {
     "slide_type": "slide"
    }
   },
   "source": [
    "### Coroutines\n",
    "Coroutines are very similar to generators but they utilize the yield statement to consume values."
   ]
  },
  {
   "cell_type": "code",
   "execution_count": 21,
   "metadata": {
    "collapsed": true,
    "slideshow": {
     "slide_type": "fragment"
    }
   },
   "outputs": [],
   "source": [
    "# Example from David Beasely - http://www.dabeaz.com/coroutines/index.html\n",
    "\n",
    "def grep(pattern):\n",
    " print('Looking for {}'.format(pattern))\n",
    " while True:\n",
    "     line = yield\n",
    "     if pattern in line:\n",
    "         print(line)"
   ]
  },
  {
   "cell_type": "code",
   "execution_count": 23,
   "metadata": {
    "collapsed": false,
    "slideshow": {
     "slide_type": "fragment"
    }
   },
   "outputs": [
    {
     "name": "stdout",
     "output_type": "stream",
     "text": [
      "Looking for python\n"
     ]
    }
   ],
   "source": [
    "g = grep('python')\n",
    "next(g)"
   ]
  },
  {
   "cell_type": "code",
   "execution_count": 24,
   "metadata": {
    "collapsed": false,
    "slideshow": {
     "slide_type": "fragment"
    }
   },
   "outputs": [
    {
     "name": "stdout",
     "output_type": "stream",
     "text": [
      "python generators rock!\n"
     ]
    }
   ],
   "source": [
    "g.send('Yeah, but no, but yeah, but no')\n",
    "g.send('A series of tubes')\n",
    "g.send(\"python coroutines rock!\")"
   ]
  },
  {
   "cell_type": "markdown",
   "metadata": {
    "slideshow": {
     "slide_type": "subslide"
    }
   },
   "source": [
    "#### Coroutine initialization\n",
    "A coroutine decorater to remove the need for calling `next` each time."
   ]
  },
  {
   "cell_type": "code",
   "execution_count": 28,
   "metadata": {
    "collapsed": true,
    "slideshow": {
     "slide_type": "fragment"
    }
   },
   "outputs": [],
   "source": [
    "def coroutine(func):\n",
    "    def start(*args,**kwargs):\n",
    "        cr = func(*args,**kwargs)\n",
    "        next(cr)\n",
    "        return cr\n",
    "    return start"
   ]
  },
  {
   "cell_type": "markdown",
   "metadata": {
    "slideshow": {
     "slide_type": "subslide"
    }
   },
   "source": [
    "#### `close` and `throw`\n",
    "* When `close` is called a coroutine, a `GeneratorExit` exception is thrown, and the coroutine will end (the fact the exception is caught doesn't matter, the coroutine will exit anyhow).\n",
    "* Same goes for `throw`, just that you can decide which exeption will be thrown and you can return a value (see examples)."
   ]
  },
  {
   "cell_type": "code",
   "execution_count": 90,
   "metadata": {
    "collapsed": true,
    "slideshow": {
     "slide_type": "fragment"
    }
   },
   "outputs": [],
   "source": [
    "# close() example\n",
    "@coroutine\n",
    "def add_up():\n",
    "    s = 0\n",
    "    try:\n",
    "        while True:\n",
    "            x = yield\n",
    "            print(x, end=' ')\n",
    "            s += x\n",
    "    except GeneratorExit:\n",
    "        print('\\nThe sum is {}. Cleaning up.'.format(s))"
   ]
  },
  {
   "cell_type": "code",
   "execution_count": 95,
   "metadata": {
    "collapsed": false,
    "slideshow": {
     "slide_type": "fragment"
    }
   },
   "outputs": [
    {
     "name": "stdout",
     "output_type": "stream",
     "text": [
      "0 1 2 3 4 \n",
      "The sum is 10. Cleaning up.\n"
     ]
    }
   ],
   "source": [
    "adder_gen = add_up()\n",
    "for i in range(5):\n",
    "    adder_gen.send(i)\n",
    "adder_gen.close()"
   ]
  },
  {
   "cell_type": "code",
   "execution_count": 91,
   "metadata": {
    "collapsed": true,
    "slideshow": {
     "slide_type": "subslide"
    }
   },
   "outputs": [],
   "source": [
    "# throw() example\n",
    "@coroutine\n",
    "def throw_me_an_exception():\n",
    "    try:\n",
    "        while True:\n",
    "            x = yield\n",
    "    except InterruptedError as e:\n",
    "        print(e)\n",
    "        yield 'got it' "
   ]
  },
  {
   "cell_type": "code",
   "execution_count": 94,
   "metadata": {
    "collapsed": false,
    "scrolled": true,
    "slideshow": {
     "slide_type": "fragment"
    }
   },
   "outputs": [
    {
     "name": "stdout",
     "output_type": "stream",
     "text": [
      "stop it\n",
      "got it\n"
     ]
    },
    {
     "ename": "StopIteration",
     "evalue": "",
     "output_type": "error",
     "traceback": [
      "\u001b[1;31m---------------------------------------------------------------------------\u001b[0m",
      "\u001b[1;31mStopIteration\u001b[0m                             Traceback (most recent call last)",
      "\u001b[1;32m<ipython-input-94-a804b24a5762>\u001b[0m in \u001b[0;36m<module>\u001b[1;34m()\u001b[0m\n\u001b[0;32m      3\u001b[0m \u001b[0mprint\u001b[0m\u001b[1;33m(\u001b[0m\u001b[0manswer\u001b[0m\u001b[1;33m)\u001b[0m\u001b[1;33m\u001b[0m\u001b[0m\n\u001b[0;32m      4\u001b[0m \u001b[1;33m\u001b[0m\u001b[0m\n\u001b[1;32m----> 5\u001b[1;33m \u001b[0mnext\u001b[0m\u001b[1;33m(\u001b[0m\u001b[0madder\u001b[0m\u001b[1;33m)\u001b[0m\u001b[1;33m\u001b[0m\u001b[0m\n\u001b[0m",
      "\u001b[1;31mStopIteration\u001b[0m: "
     ]
    }
   ],
   "source": [
    "thrower_gen = throw_me_an_exception()\n",
    "answer = thrower_gen.throw(InterruptedError, 'stop it')\n",
    "print(answer)\n",
    "\n",
    "next(adder)"
   ]
  },
  {
   "cell_type": "markdown",
   "metadata": {
    "slideshow": {
     "slide_type": "slide"
    }
   },
   "source": [
    "#### Objects vs Coroutines\n",
    "It seems that there is a great similarity between regular objects and coroutines: they both has data members that can hold states. Then why use coroutines? Let's implement grep with a class and a coroutine:"
   ]
  },
  {
   "cell_type": "code",
   "execution_count": 122,
   "metadata": {
    "collapsed": false,
    "slideshow": {
     "slide_type": "fragment"
    }
   },
   "outputs": [
    {
     "name": "stdout",
     "output_type": "stream",
     "text": [
      "1000 loops, best of 3: 416 ns per loop\n",
      "1000 loops, best of 3: 446 ns per loop\n"
     ]
    }
   ],
   "source": [
    "# Benchmark authored by David Beasely - http://www.dabeaz.com/coroutines/index.html\n",
    "\n",
    "class GrepHandler(object):\n",
    "    def __init__(self, pattern, target):\n",
    "        self.pattern = pattern\n",
    "        self.target = target\n",
    "\n",
    "    def send(self, line):\n",
    "        if self.pattern in line:\n",
    "            self.target.send(line)\n",
    "\n",
    "\n",
    "@coroutine\n",
    "def grep(pattern, target):\n",
    "    while True:\n",
    "        line = yield\n",
    "        if pattern in line:\n",
    "            target.send(line)\n",
    "\n",
    "\n",
    "# A null-sink to send data\n",
    "@coroutine\n",
    "def null():\n",
    "    while True: item = yield\n",
    "   \n",
    "line = 'python is nice'\n",
    "p1 = grep('python', null())  # Coroutine\n",
    "p2 = GrepHandler('python', null())  # Object\n",
    "\n",
    "%timeit -n 1000 p1.send(line)\n",
    "%timeit -n 1000 p2.send(line)"
   ]
  },
  {
   "cell_type": "markdown",
   "metadata": {
    "slideshow": {
     "slide_type": "fragment"
    }
   },
   "source": [
    "**So we got:**\n",
    "* Elegance (agruable). \n",
    "* Speed.\n",
    "* Job security (only you understand the code :) )"
   ]
  },
  {
   "cell_type": "markdown",
   "metadata": {
    "slideshow": {
     "slide_type": "slide"
    }
   },
   "source": [
    "## Use cases\n",
    "As [PEP 342](http://legacy.python.org/dev/peps/pep-0342/) mentions and Knuth & Ruskey decribes thouroughly in [Deconstructing Coroutines](http://citeseerx.ist.psu.edu/viewdoc/download;jsessionid=98EAC35E08B1DB945E499F455F6EAD1E?doi=10.1.1.19.79&rep=rep1&type=pdf), coroutines can supply an elegant solution to a varaity of problems. We will start with a simple data pipes solutions and reach all the way to a mini OS."
   ]
  },
  {
   "cell_type": "markdown",
   "metadata": {
    "slideshow": {
     "slide_type": "slide"
    }
   },
   "source": [
    "### Use case 1 - Pipes\n",
    "Pipes allows us to proccess large amounts of data without worrying about memory footprint and following unexpected crushes. Also, since we each chunk of data finishes the cycle as it is read, even if some mischief happens, the proccess does not need restart from the top. \n",
    "\n",
    "Regulary we will use generators to implement pipes but coroutines can offer us greater flexibilty and decopouling (and with asyncio also concurency, but this is for another talk)."
   ]
  },
  {
   "cell_type": "code",
   "execution_count": 103,
   "metadata": {
    "collapsed": false,
    "slideshow": {
     "slide_type": "fragment"
    }
   },
   "outputs": [
    {
     "data": {
      "image/png": "[encoded data removed]"
     },
     "metadata": {},
     "output_type": "display_data"
    }
   ],
   "source": [
    "from IPython.display import Image,display_png\n",
    "display_png(Image('branchy.png'))"
   ]
  },
  {
   "cell_type": "markdown",
   "metadata": {
    "slideshow": {
     "slide_type": "subslide"
    }
   },
   "source": [
    "### Pipe example\n",
    "In this example, we need fetch data from furniture.com. As with any pipe we can abstract the steps taken to 3:\n",
    "1. **Producer** - API request to furniture.com.\n",
    "2. **Filter** - filtering and formating the data to match our needs.\n",
    "3. **Sink** - Update our DB and indexer. "
   ]
  }
 ],
 "metadata": {
  "celltoolbar": "Slideshow",
  "kernelspec": {
   "display_name": "Python 3",
   "language": "python",
   "name": "python3"
  },
  "language_info": {
   "codemirror_mode": {
    "name": "ipython",
    "version": 3
   },
   "file_extension": ".py",
   "mimetype": "text/x-python",
   "name": "python",
   "nbconvert_exporter": "python",
   "pygments_lexer": "ipython3",
   "version": "3.4.3"
  }
 },
 "nbformat": 4,
 "nbformat_minor": 0
}
